{
 "cells": [
  {
   "cell_type": "code",
   "execution_count": 7,
   "id": "9cb02190",
   "metadata": {},
   "outputs": [],
   "source": [
    "import requests\n",
    "from bs4 import BeautifulSoup as bs\n",
    "import pandas as pd\n",
    "\n",
    "ru_url = 'kv22?xjazyk=CZ&xid=1&xv=11'"
   ]
  },
  {
   "cell_type": "code",
   "execution_count": 33,
   "id": "39de6106",
   "metadata": {},
   "outputs": [],
   "source": [
    "def get_url(specific_url):\n",
    "    base_url = 'https://www.volby.cz/pls/kv2022/'\n",
    "    response = requests.get(base_url + specific_url)\n",
    "    soup = bs(response.content)\n",
    "    return response, soup\n",
    "\n",
    "def read_all_tables(response):\n",
    "    return pd.read_html(response.text)\n",
    "\n",
    "def get_ru_names(soup):\n",
    "    return [n.text for n in soup.find_all('h3', class_='kraj_ciselnik')]\n",
    "\n",
    "def get_ru_hrefs(soup):\n",
    "    hrefs = [t.find_all('a', href=True) for t in soup.find_all('table', class_='table')]\n",
    "    urls = [list(map(lambda x: x['href'], h)) for h in rhrefs ]"
   ]
  },
  {
   "cell_type": "code",
   "execution_count": 9,
   "id": "00e17981",
   "metadata": {},
   "outputs": [],
   "source": [
    "ru_response, ru_soup = get_url(ru_url)"
   ]
  },
  {
   "cell_type": "code",
   "execution_count": 34,
   "id": "cb671ae2",
   "metadata": {},
   "outputs": [],
   "source": [
    "ru_tables = read_all_tables(ru_response)"
   ]
  },
  {
   "cell_type": "code",
   "execution_count": 31,
   "id": "dd98d3d3",
   "metadata": {},
   "outputs": [
    {
     "data": {
      "text/plain": [
       "['Hlavní město Praha',\n",
       " 'Středočeský kraj',\n",
       " 'Jihočeský kraj',\n",
       " 'Plzeňský kraj',\n",
       " 'Karlovarský kraj',\n",
       " 'Ústecký kraj',\n",
       " 'Liberecký kraj',\n",
       " 'Královéhradecký kraj',\n",
       " 'Pardubický kraj',\n",
       " 'Kraj Vysočina',\n",
       " 'Jihomoravský kraj',\n",
       " 'Olomoucký kraj',\n",
       " 'Zlínský kraj',\n",
       " 'Moravskoslezský kraj']"
      ]
     },
     "execution_count": 31,
     "metadata": {},
     "output_type": "execute_result"
    }
   ],
   "source": [
    "ru_names = get_ru_names(ru_soup)\n",
    "ru_names"
   ]
  },
  {
   "cell_type": "code",
   "execution_count": 28,
   "id": "e278cd5f",
   "metadata": {},
   "outputs": [
    {
     "data": {
      "text/plain": [
       "[['kv222?xjazyk=CZ&xid=1&xv=11&xnumnuts=1100'],\n",
       " ['kv222?xjazyk=CZ&xid=1&xv=11&xnumnuts=2101',\n",
       "  'kv222?xjazyk=CZ&xid=1&xv=11&xnumnuts=2102',\n",
       "  'kv222?xjazyk=CZ&xid=1&xv=11&xnumnuts=2103',\n",
       "  'kv222?xjazyk=CZ&xid=1&xv=11&xnumnuts=2104',\n",
       "  'kv222?xjazyk=CZ&xid=1&xv=11&xnumnuts=2105',\n",
       "  'kv222?xjazyk=CZ&xid=1&xv=11&xnumnuts=2106',\n",
       "  'kv222?xjazyk=CZ&xid=1&xv=11&xnumnuts=2107',\n",
       "  'kv222?xjazyk=CZ&xid=1&xv=11&xnumnuts=2108',\n",
       "  'kv222?xjazyk=CZ&xid=1&xv=11&xnumnuts=2109',\n",
       "  'kv222?xjazyk=CZ&xid=1&xv=11&xnumnuts=2110',\n",
       "  'kv222?xjazyk=CZ&xid=1&xv=11&xnumnuts=2111',\n",
       "  'kv222?xjazyk=CZ&xid=1&xv=11&xnumnuts=2112'],\n",
       " ['kv222?xjazyk=CZ&xid=1&xv=11&xnumnuts=3101',\n",
       "  'kv222?xjazyk=CZ&xid=1&xv=11&xnumnuts=3102',\n",
       "  'kv222?xjazyk=CZ&xid=1&xv=11&xnumnuts=3103',\n",
       "  'kv222?xjazyk=CZ&xid=1&xv=11&xnumnuts=3104',\n",
       "  'kv222?xjazyk=CZ&xid=1&xv=11&xnumnuts=3105',\n",
       "  'kv222?xjazyk=CZ&xid=1&xv=11&xnumnuts=3106',\n",
       "  'kv222?xjazyk=CZ&xid=1&xv=11&xnumnuts=3107'],\n",
       " ['kv222?xjazyk=CZ&xid=1&xv=11&xnumnuts=3201',\n",
       "  'kv222?xjazyk=CZ&xid=1&xv=11&xnumnuts=3202',\n",
       "  'kv222?xjazyk=CZ&xid=1&xv=11&xnumnuts=3203',\n",
       "  'kv222?xjazyk=CZ&xid=1&xv=11&xnumnuts=3204',\n",
       "  'kv222?xjazyk=CZ&xid=1&xv=11&xnumnuts=3205',\n",
       "  'kv222?xjazyk=CZ&xid=1&xv=11&xnumnuts=3206',\n",
       "  'kv222?xjazyk=CZ&xid=1&xv=11&xnumnuts=3207'],\n",
       " ['kv222?xjazyk=CZ&xid=1&xv=11&xnumnuts=4101',\n",
       "  'kv222?xjazyk=CZ&xid=1&xv=11&xnumnuts=4102',\n",
       "  'kv222?xjazyk=CZ&xid=1&xv=11&xnumnuts=4103'],\n",
       " ['kv222?xjazyk=CZ&xid=1&xv=11&xnumnuts=4201',\n",
       "  'kv222?xjazyk=CZ&xid=1&xv=11&xnumnuts=4202',\n",
       "  'kv222?xjazyk=CZ&xid=1&xv=11&xnumnuts=4203',\n",
       "  'kv222?xjazyk=CZ&xid=1&xv=11&xnumnuts=4204',\n",
       "  'kv222?xjazyk=CZ&xid=1&xv=11&xnumnuts=4205',\n",
       "  'kv222?xjazyk=CZ&xid=1&xv=11&xnumnuts=4206',\n",
       "  'kv222?xjazyk=CZ&xid=1&xv=11&xnumnuts=4207'],\n",
       " ['kv222?xjazyk=CZ&xid=1&xv=11&xnumnuts=5101',\n",
       "  'kv222?xjazyk=CZ&xid=1&xv=11&xnumnuts=5102',\n",
       "  'kv222?xjazyk=CZ&xid=1&xv=11&xnumnuts=5103',\n",
       "  'kv222?xjazyk=CZ&xid=1&xv=11&xnumnuts=5104'],\n",
       " ['kv222?xjazyk=CZ&xid=1&xv=11&xnumnuts=5201',\n",
       "  'kv222?xjazyk=CZ&xid=1&xv=11&xnumnuts=5202',\n",
       "  'kv222?xjazyk=CZ&xid=1&xv=11&xnumnuts=5203',\n",
       "  'kv222?xjazyk=CZ&xid=1&xv=11&xnumnuts=5204',\n",
       "  'kv222?xjazyk=CZ&xid=1&xv=11&xnumnuts=5205'],\n",
       " ['kv222?xjazyk=CZ&xid=1&xv=11&xnumnuts=5301',\n",
       "  'kv222?xjazyk=CZ&xid=1&xv=11&xnumnuts=5302',\n",
       "  'kv222?xjazyk=CZ&xid=1&xv=11&xnumnuts=5303',\n",
       "  'kv222?xjazyk=CZ&xid=1&xv=11&xnumnuts=5304'],\n",
       " ['kv222?xjazyk=CZ&xid=1&xv=11&xnumnuts=6101',\n",
       "  'kv222?xjazyk=CZ&xid=1&xv=11&xnumnuts=6102',\n",
       "  'kv222?xjazyk=CZ&xid=1&xv=11&xnumnuts=6103',\n",
       "  'kv222?xjazyk=CZ&xid=1&xv=11&xnumnuts=6104',\n",
       "  'kv222?xjazyk=CZ&xid=1&xv=11&xnumnuts=6105'],\n",
       " ['kv222?xjazyk=CZ&xid=1&xv=11&xnumnuts=6201',\n",
       "  'kv222?xjazyk=CZ&xid=1&xv=11&xnumnuts=6202',\n",
       "  'kv222?xjazyk=CZ&xid=1&xv=11&xnumnuts=6203',\n",
       "  'kv222?xjazyk=CZ&xid=1&xv=11&xnumnuts=6204',\n",
       "  'kv222?xjazyk=CZ&xid=1&xv=11&xnumnuts=6205',\n",
       "  'kv222?xjazyk=CZ&xid=1&xv=11&xnumnuts=6206',\n",
       "  'kv222?xjazyk=CZ&xid=1&xv=11&xnumnuts=6207'],\n",
       " ['kv222?xjazyk=CZ&xid=1&xv=11&xnumnuts=7101',\n",
       "  'kv222?xjazyk=CZ&xid=1&xv=11&xnumnuts=7102',\n",
       "  'kv222?xjazyk=CZ&xid=1&xv=11&xnumnuts=7103',\n",
       "  'kv222?xjazyk=CZ&xid=1&xv=11&xnumnuts=7104',\n",
       "  'kv222?xjazyk=CZ&xid=1&xv=11&xnumnuts=7105'],\n",
       " ['kv222?xjazyk=CZ&xid=1&xv=11&xnumnuts=7201',\n",
       "  'kv222?xjazyk=CZ&xid=1&xv=11&xnumnuts=7202',\n",
       "  'kv222?xjazyk=CZ&xid=1&xv=11&xnumnuts=7203',\n",
       "  'kv222?xjazyk=CZ&xid=1&xv=11&xnumnuts=7204'],\n",
       " ['kv222?xjazyk=CZ&xid=1&xv=11&xnumnuts=8101',\n",
       "  'kv222?xjazyk=CZ&xid=1&xv=11&xnumnuts=8102',\n",
       "  'kv222?xjazyk=CZ&xid=1&xv=11&xnumnuts=8103',\n",
       "  'kv222?xjazyk=CZ&xid=1&xv=11&xnumnuts=8104',\n",
       "  'kv222?xjazyk=CZ&xid=1&xv=11&xnumnuts=8105',\n",
       "  'kv222?xjazyk=CZ&xid=1&xv=11&xnumnuts=8106']]"
      ]
     },
     "execution_count": 28,
     "metadata": {},
     "output_type": "execute_result"
    }
   ],
   "source": [
    "ru_hrefs = [t.find_all('a', href=True) for t in ru_soup.find_all('table', class_='table')]\n",
    "ru_city_url = [list(map(lambda x: x['href'], h)) for h in ru_hrefs ]\n",
    "ru_city_url"
   ]
  }
 ],
 "metadata": {
  "kernelspec": {
   "display_name": "Python 3 (ipykernel)",
   "language": "python",
   "name": "python3"
  },
  "language_info": {
   "codemirror_mode": {
    "name": "ipython",
    "version": 3
   },
   "file_extension": ".py",
   "mimetype": "text/x-python",
   "name": "python",
   "nbconvert_exporter": "python",
   "pygments_lexer": "ipython3",
   "version": "3.10.1"
  }
 },
 "nbformat": 4,
 "nbformat_minor": 5
}
