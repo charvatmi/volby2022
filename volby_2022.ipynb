{
 "cells": [
  {
   "cell_type": "code",
   "execution_count": 7,
   "id": "9bfca018",
   "metadata": {},
   "outputs": [],
   "source": [
    "import requests\n",
    "from bs4 import BeautifulSoup as bs\n",
    "import pandas as pd\n",
    "\n",
    "ru_url = 'kv22?xjazyk=CZ&xid=1&xv=11'"
   ]
  },
  {
   "cell_type": "code",
   "execution_count": 68,
   "id": "a0ca24f8",
   "metadata": {},
   "outputs": [],
   "source": [
    "def get_url(specific_url):\n",
    "    base_url = 'https://www.volby.cz/pls/kv2022/'\n",
    "    response = requests.get(base_url + specific_url)\n",
    "    soup = bs(response.content)\n",
    "    return response, soup\n",
    "\n",
    "def read_all_tables(response):\n",
    "    return pd.read_html(response.text)\n",
    "\n",
    "def get_ru_names(soup):\n",
    "    return [n.text for n in soup.find_all('h3', class_='kraj_ciselnik')]\n",
    "\n",
    "def get_ru_hrefs(soup):\n",
    "    hrefs = [t.find_all('a', href=True) for t in soup.find_all('table', class_='table')]\n",
    "    urls = [list(map(lambda x: x['href'], h)) for h in hrefs ]\n",
    "    return urls\n",
    "\n",
    "def scrape_regional_unit():\n",
    "    ru_response, ru_soup = get_url(ru_url)\n",
    "    ru_tables = read_all_tables(ru_response)\n",
    "    ru_names = get_ru_names(ru_soup)\n",
    "    ru_city_url = get_ru_hrefs(ru_soup)\n",
    "    \n",
    "    for ru_t, ru_n, ru_cu in zip(ru_tables, ru_names, ru_city_url):\n",
    "        ru_t.columns = ru_t.columns.droplevel(0)\n",
    "        ru_t.drop('Výběrobce', inplace=True, axis=1)\n",
    "        ru_t.columns = ['ru_code', 'city_name']\n",
    "        ru_t.set_index('ru_code', inplace=True, drop=True)\n",
    "        ru_t['ru_name'] = ru_n\n",
    "        ru_t['city_url'] = ru_cu\n",
    "    \n",
    "    return pd.concat(ru_tables)"
   ]
  },
  {
   "cell_type": "code",
   "execution_count": 69,
   "id": "b2594215",
   "metadata": {},
   "outputs": [
    {
     "data": {
      "text/html": [
       "<div>\n",
       "<style scoped>\n",
       "    .dataframe tbody tr th:only-of-type {\n",
       "        vertical-align: middle;\n",
       "    }\n",
       "\n",
       "    .dataframe tbody tr th {\n",
       "        vertical-align: top;\n",
       "    }\n",
       "\n",
       "    .dataframe thead th {\n",
       "        text-align: right;\n",
       "    }\n",
       "</style>\n",
       "<table border=\"1\" class=\"dataframe\">\n",
       "  <thead>\n",
       "    <tr style=\"text-align: right;\">\n",
       "      <th></th>\n",
       "      <th>city_name</th>\n",
       "      <th>ru_name</th>\n",
       "      <th>city_url</th>\n",
       "    </tr>\n",
       "    <tr>\n",
       "      <th>ru_code</th>\n",
       "      <th></th>\n",
       "      <th></th>\n",
       "      <th></th>\n",
       "    </tr>\n",
       "  </thead>\n",
       "  <tbody>\n",
       "    <tr>\n",
       "      <th>CZ0100</th>\n",
       "      <td>Praha</td>\n",
       "      <td>Hlavní město Praha</td>\n",
       "      <td>kv222?xjazyk=CZ&amp;xid=1&amp;xv=11&amp;xnumnuts=1100</td>\n",
       "    </tr>\n",
       "    <tr>\n",
       "      <th>CZ0201</th>\n",
       "      <td>Benešov</td>\n",
       "      <td>Středočeský kraj</td>\n",
       "      <td>kv222?xjazyk=CZ&amp;xid=1&amp;xv=11&amp;xnumnuts=2101</td>\n",
       "    </tr>\n",
       "    <tr>\n",
       "      <th>CZ0202</th>\n",
       "      <td>Beroun</td>\n",
       "      <td>Středočeský kraj</td>\n",
       "      <td>kv222?xjazyk=CZ&amp;xid=1&amp;xv=11&amp;xnumnuts=2102</td>\n",
       "    </tr>\n",
       "    <tr>\n",
       "      <th>CZ0203</th>\n",
       "      <td>Kladno</td>\n",
       "      <td>Středočeský kraj</td>\n",
       "      <td>kv222?xjazyk=CZ&amp;xid=1&amp;xv=11&amp;xnumnuts=2103</td>\n",
       "    </tr>\n",
       "    <tr>\n",
       "      <th>CZ0204</th>\n",
       "      <td>Kolín</td>\n",
       "      <td>Středočeský kraj</td>\n",
       "      <td>kv222?xjazyk=CZ&amp;xid=1&amp;xv=11&amp;xnumnuts=2104</td>\n",
       "    </tr>\n",
       "  </tbody>\n",
       "</table>\n",
       "</div>"
      ],
      "text/plain": [
       "        city_name             ru_name  \\\n",
       "ru_code                                 \n",
       "CZ0100      Praha  Hlavní město Praha   \n",
       "CZ0201    Benešov    Středočeský kraj   \n",
       "CZ0202     Beroun    Středočeský kraj   \n",
       "CZ0203     Kladno    Středočeský kraj   \n",
       "CZ0204      Kolín    Středočeský kraj   \n",
       "\n",
       "                                          city_url  \n",
       "ru_code                                             \n",
       "CZ0100   kv222?xjazyk=CZ&xid=1&xv=11&xnumnuts=1100  \n",
       "CZ0201   kv222?xjazyk=CZ&xid=1&xv=11&xnumnuts=2101  \n",
       "CZ0202   kv222?xjazyk=CZ&xid=1&xv=11&xnumnuts=2102  \n",
       "CZ0203   kv222?xjazyk=CZ&xid=1&xv=11&xnumnuts=2103  \n",
       "CZ0204   kv222?xjazyk=CZ&xid=1&xv=11&xnumnuts=2104  "
      ]
     },
     "execution_count": 69,
     "metadata": {},
     "output_type": "execute_result"
    }
   ],
   "source": [
    "ru_table_all = scrape_regional_unit()\n",
    "ru_table_all.head()"
   ]
  },
  {
   "cell_type": "code",
   "execution_count": null,
   "id": "992401e8",
   "metadata": {},
   "outputs": [],
   "source": []
  },
  {
   "cell_type": "code",
   "execution_count": null,
   "id": "8814ba99",
   "metadata": {},
   "outputs": [],
   "source": []
  },
  {
   "cell_type": "code",
   "execution_count": null,
   "id": "cb68ebf1",
   "metadata": {},
   "outputs": [],
   "source": []
  },
  {
   "cell_type": "code",
   "execution_count": null,
   "id": "bd3c4898",
   "metadata": {},
   "outputs": [],
   "source": []
  },
  {
   "cell_type": "code",
   "execution_count": null,
   "id": "9ac693d6",
   "metadata": {},
   "outputs": [],
   "source": []
  }
 ],
 "metadata": {
  "kernelspec": {
   "display_name": "Python 3 (ipykernel)",
   "language": "python",
   "name": "python3"
  },
  "language_info": {
   "codemirror_mode": {
    "name": "ipython",
    "version": 3
   },
   "file_extension": ".py",
   "mimetype": "text/x-python",
   "name": "python",
   "nbconvert_exporter": "python",
   "pygments_lexer": "ipython3",
   "version": "3.10.1"
  }
 },
 "nbformat": 4,
 "nbformat_minor": 5
}
