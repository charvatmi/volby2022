{
 "cells": [
  {
   "cell_type": "code",
   "execution_count": 7,
   "id": "7b530119",
   "metadata": {},
   "outputs": [],
   "source": [
    "import requests\n",
    "from bs4 import BeautifulSoup as bs\n",
    "import pandas as pd\n",
    "\n",
    "ru_url = 'kv22?xjazyk=CZ&xid=1&xv=11'"
   ]
  },
  {
   "cell_type": "code",
   "execution_count": 5,
   "id": "439f2f70",
   "metadata": {},
   "outputs": [],
   "source": [
    "def get_url(specific_url):\n",
    "    base_url = 'https://www.volby.cz/pls/kv2022/'\n",
    "    response = requests.get(base_url + specific_url)\n",
    "    soup = bs(response.content)\n",
    "    return response, soup"
   ]
  },
  {
   "cell_type": "code",
   "execution_count": 9,
   "id": "a6315326",
   "metadata": {},
   "outputs": [],
   "source": [
    "ru_response, ru_soup = get_url(ru_url)"
   ]
  },
  {
   "cell_type": "code",
   "execution_count": 17,
   "id": "ad87c720",
   "metadata": {},
   "outputs": [],
   "source": [
    "ru_tables = pd.read_html(ru_response.text)"
   ]
  },
  {
   "cell_type": "code",
   "execution_count": 22,
   "id": "141dd8b3",
   "metadata": {},
   "outputs": [
    {
     "data": {
      "text/plain": [
       "['Hlavní město Praha',\n",
       " 'Středočeský kraj',\n",
       " 'Jihočeský kraj',\n",
       " 'Plzeňský kraj',\n",
       " 'Karlovarský kraj',\n",
       " 'Ústecký kraj',\n",
       " 'Liberecký kraj',\n",
       " 'Královéhradecký kraj',\n",
       " 'Pardubický kraj',\n",
       " 'Kraj Vysočina',\n",
       " 'Jihomoravský kraj',\n",
       " 'Olomoucký kraj',\n",
       " 'Zlínský kraj',\n",
       " 'Moravskoslezský kraj']"
      ]
     },
     "execution_count": 22,
     "metadata": {},
     "output_type": "execute_result"
    }
   ],
   "source": [
    "ru_names = [n.text for n in ru_soup.find_all('h3', class_='kraj_ciselnik')]\n",
    "ru_names"
   ]
  },
  {
   "cell_type": "code",
   "execution_count": 24,
   "id": "7e26b14d",
   "metadata": {},
   "outputs": [
    {
     "data": {
      "text/plain": [
       "[[<a href=\"kv222?xjazyk=CZ&amp;xid=1&amp;xv=11&amp;xnumnuts=1100\">X</a>],\n",
       " [<a href=\"kv222?xjazyk=CZ&amp;xid=1&amp;xv=11&amp;xnumnuts=2101\">X</a>,\n",
       "  <a href=\"kv222?xjazyk=CZ&amp;xid=1&amp;xv=11&amp;xnumnuts=2102\">X</a>,\n",
       "  <a href=\"kv222?xjazyk=CZ&amp;xid=1&amp;xv=11&amp;xnumnuts=2103\">X</a>,\n",
       "  <a href=\"kv222?xjazyk=CZ&amp;xid=1&amp;xv=11&amp;xnumnuts=2104\">X</a>,\n",
       "  <a href=\"kv222?xjazyk=CZ&amp;xid=1&amp;xv=11&amp;xnumnuts=2105\">X</a>,\n",
       "  <a href=\"kv222?xjazyk=CZ&amp;xid=1&amp;xv=11&amp;xnumnuts=2106\">X</a>,\n",
       "  <a href=\"kv222?xjazyk=CZ&amp;xid=1&amp;xv=11&amp;xnumnuts=2107\">X</a>,\n",
       "  <a href=\"kv222?xjazyk=CZ&amp;xid=1&amp;xv=11&amp;xnumnuts=2108\">X</a>,\n",
       "  <a href=\"kv222?xjazyk=CZ&amp;xid=1&amp;xv=11&amp;xnumnuts=2109\">X</a>,\n",
       "  <a href=\"kv222?xjazyk=CZ&amp;xid=1&amp;xv=11&amp;xnumnuts=2110\">X</a>,\n",
       "  <a href=\"kv222?xjazyk=CZ&amp;xid=1&amp;xv=11&amp;xnumnuts=2111\">X</a>,\n",
       "  <a href=\"kv222?xjazyk=CZ&amp;xid=1&amp;xv=11&amp;xnumnuts=2112\">X</a>],\n",
       " [<a href=\"kv222?xjazyk=CZ&amp;xid=1&amp;xv=11&amp;xnumnuts=3101\">X</a>,\n",
       "  <a href=\"kv222?xjazyk=CZ&amp;xid=1&amp;xv=11&amp;xnumnuts=3102\">X</a>,\n",
       "  <a href=\"kv222?xjazyk=CZ&amp;xid=1&amp;xv=11&amp;xnumnuts=3103\">X</a>,\n",
       "  <a href=\"kv222?xjazyk=CZ&amp;xid=1&amp;xv=11&amp;xnumnuts=3104\">X</a>,\n",
       "  <a href=\"kv222?xjazyk=CZ&amp;xid=1&amp;xv=11&amp;xnumnuts=3105\">X</a>,\n",
       "  <a href=\"kv222?xjazyk=CZ&amp;xid=1&amp;xv=11&amp;xnumnuts=3106\">X</a>,\n",
       "  <a href=\"kv222?xjazyk=CZ&amp;xid=1&amp;xv=11&amp;xnumnuts=3107\">X</a>],\n",
       " [<a href=\"kv222?xjazyk=CZ&amp;xid=1&amp;xv=11&amp;xnumnuts=3201\">X</a>,\n",
       "  <a href=\"kv222?xjazyk=CZ&amp;xid=1&amp;xv=11&amp;xnumnuts=3202\">X</a>,\n",
       "  <a href=\"kv222?xjazyk=CZ&amp;xid=1&amp;xv=11&amp;xnumnuts=3203\">X</a>,\n",
       "  <a href=\"kv222?xjazyk=CZ&amp;xid=1&amp;xv=11&amp;xnumnuts=3204\">X</a>,\n",
       "  <a href=\"kv222?xjazyk=CZ&amp;xid=1&amp;xv=11&amp;xnumnuts=3205\">X</a>,\n",
       "  <a href=\"kv222?xjazyk=CZ&amp;xid=1&amp;xv=11&amp;xnumnuts=3206\">X</a>,\n",
       "  <a href=\"kv222?xjazyk=CZ&amp;xid=1&amp;xv=11&amp;xnumnuts=3207\">X</a>],\n",
       " [<a href=\"kv222?xjazyk=CZ&amp;xid=1&amp;xv=11&amp;xnumnuts=4101\">X</a>,\n",
       "  <a href=\"kv222?xjazyk=CZ&amp;xid=1&amp;xv=11&amp;xnumnuts=4102\">X</a>,\n",
       "  <a href=\"kv222?xjazyk=CZ&amp;xid=1&amp;xv=11&amp;xnumnuts=4103\">X</a>],\n",
       " [<a href=\"kv222?xjazyk=CZ&amp;xid=1&amp;xv=11&amp;xnumnuts=4201\">X</a>,\n",
       "  <a href=\"kv222?xjazyk=CZ&amp;xid=1&amp;xv=11&amp;xnumnuts=4202\">X</a>,\n",
       "  <a href=\"kv222?xjazyk=CZ&amp;xid=1&amp;xv=11&amp;xnumnuts=4203\">X</a>,\n",
       "  <a href=\"kv222?xjazyk=CZ&amp;xid=1&amp;xv=11&amp;xnumnuts=4204\">X</a>,\n",
       "  <a href=\"kv222?xjazyk=CZ&amp;xid=1&amp;xv=11&amp;xnumnuts=4205\">X</a>,\n",
       "  <a href=\"kv222?xjazyk=CZ&amp;xid=1&amp;xv=11&amp;xnumnuts=4206\">X</a>,\n",
       "  <a href=\"kv222?xjazyk=CZ&amp;xid=1&amp;xv=11&amp;xnumnuts=4207\">X</a>],\n",
       " [<a href=\"kv222?xjazyk=CZ&amp;xid=1&amp;xv=11&amp;xnumnuts=5101\">X</a>,\n",
       "  <a href=\"kv222?xjazyk=CZ&amp;xid=1&amp;xv=11&amp;xnumnuts=5102\">X</a>,\n",
       "  <a href=\"kv222?xjazyk=CZ&amp;xid=1&amp;xv=11&amp;xnumnuts=5103\">X</a>,\n",
       "  <a href=\"kv222?xjazyk=CZ&amp;xid=1&amp;xv=11&amp;xnumnuts=5104\">X</a>],\n",
       " [<a href=\"kv222?xjazyk=CZ&amp;xid=1&amp;xv=11&amp;xnumnuts=5201\">X</a>,\n",
       "  <a href=\"kv222?xjazyk=CZ&amp;xid=1&amp;xv=11&amp;xnumnuts=5202\">X</a>,\n",
       "  <a href=\"kv222?xjazyk=CZ&amp;xid=1&amp;xv=11&amp;xnumnuts=5203\">X</a>,\n",
       "  <a href=\"kv222?xjazyk=CZ&amp;xid=1&amp;xv=11&amp;xnumnuts=5204\">X</a>,\n",
       "  <a href=\"kv222?xjazyk=CZ&amp;xid=1&amp;xv=11&amp;xnumnuts=5205\">X</a>],\n",
       " [<a href=\"kv222?xjazyk=CZ&amp;xid=1&amp;xv=11&amp;xnumnuts=5301\">X</a>,\n",
       "  <a href=\"kv222?xjazyk=CZ&amp;xid=1&amp;xv=11&amp;xnumnuts=5302\">X</a>,\n",
       "  <a href=\"kv222?xjazyk=CZ&amp;xid=1&amp;xv=11&amp;xnumnuts=5303\">X</a>,\n",
       "  <a href=\"kv222?xjazyk=CZ&amp;xid=1&amp;xv=11&amp;xnumnuts=5304\">X</a>],\n",
       " [<a href=\"kv222?xjazyk=CZ&amp;xid=1&amp;xv=11&amp;xnumnuts=6101\">X</a>,\n",
       "  <a href=\"kv222?xjazyk=CZ&amp;xid=1&amp;xv=11&amp;xnumnuts=6102\">X</a>,\n",
       "  <a href=\"kv222?xjazyk=CZ&amp;xid=1&amp;xv=11&amp;xnumnuts=6103\">X</a>,\n",
       "  <a href=\"kv222?xjazyk=CZ&amp;xid=1&amp;xv=11&amp;xnumnuts=6104\">X</a>,\n",
       "  <a href=\"kv222?xjazyk=CZ&amp;xid=1&amp;xv=11&amp;xnumnuts=6105\">X</a>],\n",
       " [<a href=\"kv222?xjazyk=CZ&amp;xid=1&amp;xv=11&amp;xnumnuts=6201\">X</a>,\n",
       "  <a href=\"kv222?xjazyk=CZ&amp;xid=1&amp;xv=11&amp;xnumnuts=6202\">X</a>,\n",
       "  <a href=\"kv222?xjazyk=CZ&amp;xid=1&amp;xv=11&amp;xnumnuts=6203\">X</a>,\n",
       "  <a href=\"kv222?xjazyk=CZ&amp;xid=1&amp;xv=11&amp;xnumnuts=6204\">X</a>,\n",
       "  <a href=\"kv222?xjazyk=CZ&amp;xid=1&amp;xv=11&amp;xnumnuts=6205\">X</a>,\n",
       "  <a href=\"kv222?xjazyk=CZ&amp;xid=1&amp;xv=11&amp;xnumnuts=6206\">X</a>,\n",
       "  <a href=\"kv222?xjazyk=CZ&amp;xid=1&amp;xv=11&amp;xnumnuts=6207\">X</a>],\n",
       " [<a href=\"kv222?xjazyk=CZ&amp;xid=1&amp;xv=11&amp;xnumnuts=7101\">X</a>,\n",
       "  <a href=\"kv222?xjazyk=CZ&amp;xid=1&amp;xv=11&amp;xnumnuts=7102\">X</a>,\n",
       "  <a href=\"kv222?xjazyk=CZ&amp;xid=1&amp;xv=11&amp;xnumnuts=7103\">X</a>,\n",
       "  <a href=\"kv222?xjazyk=CZ&amp;xid=1&amp;xv=11&amp;xnumnuts=7104\">X</a>,\n",
       "  <a href=\"kv222?xjazyk=CZ&amp;xid=1&amp;xv=11&amp;xnumnuts=7105\">X</a>],\n",
       " [<a href=\"kv222?xjazyk=CZ&amp;xid=1&amp;xv=11&amp;xnumnuts=7201\">X</a>,\n",
       "  <a href=\"kv222?xjazyk=CZ&amp;xid=1&amp;xv=11&amp;xnumnuts=7202\">X</a>,\n",
       "  <a href=\"kv222?xjazyk=CZ&amp;xid=1&amp;xv=11&amp;xnumnuts=7203\">X</a>,\n",
       "  <a href=\"kv222?xjazyk=CZ&amp;xid=1&amp;xv=11&amp;xnumnuts=7204\">X</a>],\n",
       " [<a href=\"kv222?xjazyk=CZ&amp;xid=1&amp;xv=11&amp;xnumnuts=8101\">X</a>,\n",
       "  <a href=\"kv222?xjazyk=CZ&amp;xid=1&amp;xv=11&amp;xnumnuts=8102\">X</a>,\n",
       "  <a href=\"kv222?xjazyk=CZ&amp;xid=1&amp;xv=11&amp;xnumnuts=8103\">X</a>,\n",
       "  <a href=\"kv222?xjazyk=CZ&amp;xid=1&amp;xv=11&amp;xnumnuts=8104\">X</a>,\n",
       "  <a href=\"kv222?xjazyk=CZ&amp;xid=1&amp;xv=11&amp;xnumnuts=8105\">X</a>,\n",
       "  <a href=\"kv222?xjazyk=CZ&amp;xid=1&amp;xv=11&amp;xnumnuts=8106\">X</a>]]"
      ]
     },
     "execution_count": 24,
     "metadata": {},
     "output_type": "execute_result"
    }
   ],
   "source": [
    "ru_hrefs = [t.find_all('a', href=True) for t in ru_soup.find_all('table', class_='table')]\n",
    "ru_hrefs = "
   ]
  }
 ],
 "metadata": {
  "kernelspec": {
   "display_name": "Python 3 (ipykernel)",
   "language": "python",
   "name": "python3"
  },
  "language_info": {
   "codemirror_mode": {
    "name": "ipython",
    "version": 3
   },
   "file_extension": ".py",
   "mimetype": "text/x-python",
   "name": "python",
   "nbconvert_exporter": "python",
   "pygments_lexer": "ipython3",
   "version": "3.10.1"
  }
 },
 "nbformat": 4,
 "nbformat_minor": 5
}
